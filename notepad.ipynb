{
 "cells": [
  {
   "cell_type": "code",
   "execution_count": null,
   "metadata": {},
   "outputs": [],
   "source": [
    "import argparse\n",
    "if __name__==\"__main__\":\n",
    "    parser=argparse.ArgumentParser()\n",
    "    parser.add_argument(\"number1\",help=\"first nmber\")\n",
    "    parser.add_argument(\"number2\",help=\"second number\")\n",
    "    parser.add_argument(\"operation\",help=\"operation\")\n",
    "    args=parser.parse_args()\n",
    "    n1=args.number1\n",
    "    n2=args.number2\n",
    "    result=None\n",
    "    if args.operation==\"add\":\n",
    "        result=n1+n2\n",
    "    elif args.operation==\"multiply\":\n",
    "        result=n1*n2"
   ]
  },
  {
   "cell_type": "code",
   "execution_count": null,
   "metadata": {},
   "outputs": [],
   "source": [
    "import argparse\n",
    "if __name__==\"__main__\":\n",
    "    parser=argparse.ArgumentParser()\n",
    "    parser.add_argument(\"--number1\",help=\"first of numebr\")\n",
    "    parser.add_argument(\"--number2\",help=\"second of number\")\n",
    "    parser.add_argument(\"--optional\",help=\"Operation\")"
   ]
  }
 ],
 "metadata": {
  "kernelspec": {
   "display_name": "venv",
   "language": "python",
   "name": "python3"
  },
  "language_info": {
   "name": "python",
   "version": "3.7.0"
  },
  "orig_nbformat": 4,
  "vscode": {
   "interpreter": {
    "hash": "2695a981a5cf4824d1a892024b0ea3cc627cc218bb0abeb84f3064fec52eefd3"
   }
  }
 },
 "nbformat": 4,
 "nbformat_minor": 2
}
